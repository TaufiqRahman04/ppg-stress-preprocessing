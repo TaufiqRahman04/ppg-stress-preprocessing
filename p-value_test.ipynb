{
 "cells": [
  {
   "cell_type": "code",
   "execution_count": 25,
   "metadata": {},
   "outputs": [
    {
     "name": "stdout",
     "output_type": "stream",
     "text": [
      "        Fitur   T_stat  p_TTest              Keterangan_TTest\n",
      "0  slope_mean 7.409043 0.000000  ✨ Sangat signifikan (bagus!)\n",
      "1   slope_std 6.147867 0.000000  ✨ Sangat signifikan (bagus!)\n",
      "2    auc_mean 7.407277 0.000000  ✨ Sangat signifikan (bagus!)\n",
      "3     auc_std 8.172386 0.000000  ✨ Sangat signifikan (bagus!)\n"
     ]
    }
   ],
   "source": [
    "import pandas as pd\n",
    "import numpy as np\n",
    "from scipy.stats import t  # distribusi t, untuk hitung p-value manual\n",
    "\n",
    "# Load data dari satu file\n",
    "df = pd.read_csv('train_features.csv')\n",
    "\n",
    "# Bagi data jadi dua kategori berdasarkan Label\n",
    "low = df[df['Label'] == 0].drop(columns=['Set_ID', 'Label', 'jumlah_motion_artifacts', 'siklus_motion_artifacts'], errors='ignore')\n",
    "high = df[df['Label'] == 1].drop(columns=['Set_ID', 'Label', 'jumlah_motion_artifacts', 'siklus_motion_artifacts'], errors='ignore')\n",
    "\n",
    "# Fungsi manual sample variance\n",
    "def sample_variance(data):\n",
    "    n = len(data)\n",
    "    mean = sum(data) / n\n",
    "    squared_diffs = [(x - mean) ** 2 for x in data]\n",
    "    return sum(squared_diffs) / (n - 1)\n",
    "\n",
    "# Inisialisasi hasil\n",
    "results = []\n",
    "\n",
    "# Loop semua kolom fitur\n",
    "for col in low.columns:\n",
    "    x1 = low[col].dropna().values\n",
    "    x2 = high[col].dropna().values\n",
    "\n",
    "    if len(x1) > 1 and len(x2) > 1:\n",
    "        n1, n2 = len(x1), len(x2)\n",
    "        m1, m2 = np.mean(x1), np.mean(x2)\n",
    "        s1_sq = sample_variance(x1)\n",
    "        s2_sq = sample_variance(x2)\n",
    "\n",
    "        # Welch’s t-statistic\n",
    "        t_stat = (m1 - m2) / np.sqrt(s1_sq / n1 + s2_sq / n2)\n",
    "\n",
    "        # Derajat bebas\n",
    "        numerator = (s1_sq / n1 + s2_sq / n2) ** 2\n",
    "        denominator = ((s1_sq / n1) ** 2) / (n1 - 1) + ((s2_sq / n2) ** 2) / (n2 - 1)\n",
    "        dfree = numerator / denominator\n",
    "\n",
    "        # p-value dua arah\n",
    "        p_val = 2 * (1 - t.cdf(abs(t_stat), dfree))\n",
    "\n",
    "        def interpret_p(p):\n",
    "            if p < 0.005:\n",
    "                return \"✨ Sangat signifikan (bagus!)\"\n",
    "            elif p < 0.05:\n",
    "                return \"⚠️ Signifikan\"\n",
    "            else:\n",
    "                return \"❌ Tidak signifikan\"\n",
    "\n",
    "        results.append({\n",
    "            'Fitur': col,\n",
    "            'T_stat': t_stat,\n",
    "            'p_TTest': p_val,\n",
    "            'Keterangan_TTest': interpret_p(p_val)\n",
    "        })\n",
    "    else:\n",
    "        print(f\"⚠️ Fitur '{col}' tidak cukup data untuk uji t.\")\n",
    "\n",
    "# Jadiin DataFrame\n",
    "df_result = pd.DataFrame(results)\n",
    "\n",
    "# Format tampilan\n",
    "pd.set_option('display.float_format', '{:.6f}'.format)\n",
    "print(df_result.head(20))\n"
   ]
  }
 ],
 "metadata": {
  "kernelspec": {
   "display_name": "Python 3",
   "language": "python",
   "name": "python3"
  },
  "language_info": {
   "codemirror_mode": {
    "name": "ipython",
    "version": 3
   },
   "file_extension": ".py",
   "mimetype": "text/x-python",
   "name": "python",
   "nbconvert_exporter": "python",
   "pygments_lexer": "ipython3",
   "version": "3.12.0"
  }
 },
 "nbformat": 4,
 "nbformat_minor": 2
}
