{
 "cells": [
  {
   "cell_type": "code",
   "execution_count": null,
   "id": "f027bf3a",
   "metadata": {
    "vscode": {
     "languageId": "plaintext"
    }
   },
   "outputs": [],
   "source": [
    "import pandas as pd\n",
    "from sklearn.model_selection import cross_val_score\n",
    "from sklearn.neighbors import KNeighborsClassifier\n",
    "from sklearn.preprocessing import MinMaxScaler\n",
    "from sklearn.metrics import classification_report, confusion_matrix\n",
    "import seaborn as sns\n",
    "import matplotlib.pyplot as plt\n",
    "import joblib  # Tambahan untuk menyimpan model dan scaler\n",
    "\n",
    "# 1. Load data train dan test\n",
    "train_df = pd.read_csv('train_features.csv')\n",
    "test_df = pd.read_csv('test_features.csv')\n",
    "\n",
    "# 2. Pisahkan fitur dan label\n",
    "X_train = train_df.drop(columns=['Set_ID', 'Label', 'jumlah_motion_artifacts', 'siklus_motion_artifacts'])\n",
    "y_train = train_df['Label']\n",
    "\n",
    "X_test = test_df.drop(columns=['Set_ID', 'Label', 'jumlah_motion_artifacts', 'siklus_motion_artifacts'])\n",
    "y_test = test_df['Label']\n",
    "\n",
    "# 3. Normalisasi fitur menggunakan MinMaxScaler\n",
    "scaler = MinMaxScaler()\n",
    "X_train_scaled = scaler.fit_transform(X_train)\n",
    "X_test_scaled = scaler.transform(X_test)\n",
    "\n",
    "# 4. Inisialisasi model KNN\n",
    "knn_model = KNeighborsClassifier(n_neighbors=5, weights='uniform', metric='manhattan')\n",
    "\n",
    "# 5. Cross-validation hanya pada data train\n",
    "cv_scores_train = cross_val_score(knn_model, X_train_scaled, y_train, cv=5, scoring='accuracy')\n",
    "print(\"=== Cross-Validation KNN (Data Train) ===\")\n",
    "print(f\"Skor tiap fold: {cv_scores_train}\")\n",
    "print(f\"Rata-rata Akurasi CV (Train): {cv_scores_train.mean():.4f}\")\n",
    "\n",
    "# 6. Latih model pada seluruh data train\n",
    "knn_model.fit(X_train_scaled, y_train)\n",
    "\n",
    "# 7. Simpan model dan scaler\n",
    "joblib.dump(knn_model, 'knn_model.pkl')\n",
    "joblib.dump(scaler, 'scaler.pkl')\n",
    "print(\"\\n✅ Model dan Scaler berhasil disimpan sebagai 'model_knn.pkl' dan 'scaler.pkl'\")\n",
    "\n",
    "# 8. Prediksi pada data test\n",
    "y_pred = knn_model.predict(X_test_scaled)\n",
    "\n",
    "# 9. Evaluasi pada data test\n",
    "print(\"\\n=== Hasil Evaluasi Akhir ===\")\n",
    "print(classification_report(y_test, y_pred, target_names=['Normal', 'Stress']))\n",
    "\n",
    "# 10. Confusion Matrix\n",
    "cm = confusion_matrix(y_test, y_pred)\n",
    "plt.figure(figsize=(5, 4))\n",
    "sns.heatmap(cm, annot=True, fmt='d', cmap='Blues',\n",
    "            xticklabels=['Normal', 'Stress'],\n",
    "            yticklabels=['Normal', 'Stress'])\n",
    "plt.xlabel('Prediksi')\n",
    "plt.ylabel('Aktual')\n",
    "plt.title('Confusion Matrix - KNN (Data Test)')\n",
    "plt.tight_layout()\n",
    "plt.show()\n",
    "\n",
    "print(\"=== Pelatihan dan Evaluasi Akhir Selesai ===\")\n"
   ]
  }
 ],
 "metadata": {
  "language_info": {
   "name": "python"
  }
 },
 "nbformat": 4,
 "nbformat_minor": 5
}
